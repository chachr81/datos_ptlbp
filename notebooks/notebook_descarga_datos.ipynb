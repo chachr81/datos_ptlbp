{
 "cells": [
  {
   "cell_type": "markdown",
   "id": "9980dda3",
   "metadata": {},
   "source": [
    "<table style=\"width: 100%; text-align: center; margin-left: auto; margin-right: auto;\">\n",
    "    <tr>\n",
    "        <td><img src=\"../datos_ptlbp/img/mma_logo.png\" alt=\"Ministerio del Medio Ambiente\" style=\"width: 150px;\"/></td>\n",
    "        <td><img src=\"../datos_ptlbp/img/lbp_logo.svg\" alt=\"Proyecto LBP\" style=\"width: 150px;\"/></td>\n",
    "    </tr>\n",
    "</table>\n",
    "\n",
    "# Notebook para acceder a los servicios de almacen de datos geoespaciales de la Plataforma Tecnológica Línea de Base Pública (PTLBP)\n",
    "\n",
    "Consta de: \n",
    "\n",
    "1. **INFORMACIÓN PRIMARIA**\n",
    "   - Levantamientos de información en terreno por región.\n",
    "2. **INFORMACIÓN SECUNDARIA**\n",
    "   - Levantamiento de información ya existente en diferentes entidades.\n",
    "\n",
    "### Usos\n",
    "\n",
    "Apoyar como insumo a los diferentes instrumentos de ordenamiento territorial que nos permita hacer recomendaciones sobre el uso del territorio basados en la vocación del mismo. Sin duda hay zonas donde pueden instalarse ciertas industrias, pero también hay zonas ecológicamente importantes dado que poseen una rica biodiversidad y proveen servicios ecosistémicos fundamentales y que debemos resguardar.\n",
    "\n",
    "Información de LBP puede servir como insumo para la medición física y valoración económica de nuestro Capital Natural.\n",
    "\n",
    "LBP al aportar con información para todas las partes, podría ayudar para destrabar tacos de proyectos de inversión frenados y judicializados revitalizando la inversión y el desarrollo sostenible.\n",
    "\n",
    "Elevar los estándares actuales.\n",
    "\n",
    "Al contrastar la información levantada por titulares y funcionar como contraparte de éstos, esperamos que la LBP colabore en disminuir conflictos socioambientales con comunidades locales.\n",
    "\n",
    "La información primaria y secundaria alimenta un almacén de datos que luego nos permite hacer cruces entre variables."
   ]
  },
  {
   "cell_type": "markdown",
   "id": "6dd2558a",
   "metadata": {},
   "source": [
    "### Importar Librerias"
   ]
  },
  {
   "cell_type": "code",
   "execution_count": 2,
   "id": "import-libraries",
   "metadata": {},
   "outputs": [],
   "source": [
    "import requests\n",
    "import urllib3\n",
    "import zipfile\n",
    "import os\n",
    "import pandas as pd\n",
    "import geopandas as gpd\n",
    "from xml.etree import ElementTree as ET\n",
    "from IPython.display import display, HTML, YouTubeVideo\n",
    "urllib3.disable_warnings(urllib3.exceptions.InsecureRequestWarning)"
   ]
  },
  {
   "cell_type": "markdown",
   "id": "a9e22f92",
   "metadata": {},
   "source": [
    "### Configuraciones para listado de datos"
   ]
  },
  {
   "cell_type": "code",
   "execution_count": 3,
   "id": "c09f555c",
   "metadata": {},
   "outputs": [],
   "source": [
    "pd.set_option('display.max_rows', None)\n",
    "pd.set_option('display.max_columns', None)"
   ]
  },
  {
   "cell_type": "markdown",
   "id": "c55866b5",
   "metadata": {},
   "source": [
    "### Video explicativo de funciones"
   ]
  },
  {
   "cell_type": "code",
   "execution_count": 4,
   "id": "96c98a58",
   "metadata": {},
   "outputs": [
    {
     "data": {
      "image/jpeg": "[encoded data removed]",
      "text/html": [
       "\n",
       "        <iframe\n",
       "            width=\"1000\"\n",
       "            height=\"563\"\n",
       "            src=\"https://www.youtube.com/embed/yyWbmsr3dRE\"\n",
       "            frameborder=\"0\"\n",
       "            allowfullscreen\n",
       "            \n",
       "        ></iframe>\n",
       "        "
      ],
      "text/plain": [
       "<IPython.lib.display.YouTubeVideo at 0x7f0a919dc370>"
      ]
     },
     "metadata": {},
     "output_type": "display_data"
    }
   ],
   "source": [
    "video_id = \"yyWbmsr3dRE\"\n",
    "display(YouTubeVideo(video_id, width=1000, height=563))"
   ]
  },
  {
   "cell_type": "markdown",
   "id": "wfs-url",
   "metadata": {},
   "source": [
    "### Dirección de servicio Web Feature Services (WFS) Institucional"
   ]
  },
  {
   "cell_type": "code",
   "execution_count": 5,
   "id": "wfs-url-code",
   "metadata": {},
   "outputs": [],
   "source": [
    "wfs_url = 'https://lineasdebasepublicas.mma.gob.cl/geoserver/lbp/ows?service=WFS&version=1.1.0&request=GetCapabilities'"
   ]
  },
  {
   "cell_type": "markdown",
   "id": "listar-capas",
   "metadata": {},
   "source": [
    "### Función para listar las capas del servicio WFS"
   ]
  },
  {
   "cell_type": "code",
   "execution_count": 6,
   "id": "listar-capas-code",
   "metadata": {},
   "outputs": [],
   "source": [
    "def listar_capas(url):\n",
    "    response = requests.get(url, verify=False)  # Asegurar que la verificación SSL utiliza certifi\n",
    "    if response.status_code == 200:\n",
    "        tree = ET.fromstring(response.content)\n",
    "        capas = []\n",
    "        namespaces = {\n",
    "            'wfs': 'http://www.opengis.net/wfs',\n",
    "            'ows': 'http://www.opengis.net/ows'\n",
    "        }\n",
    "        for el in tree.findall('.//wfs:FeatureType', namespaces):\n",
    "            name = el.find('wfs:Name', namespaces).text\n",
    "            title_element = el.find('ows:Title', namespaces)\n",
    "            if title_element is None:\n",
    "                title_element = el.find('wfs:Title', namespaces)\n",
    "            title = title_element.text if title_element is not None else name\n",
    "            capas.append((name, title))\n",
    "        return capas\n",
    "    else:\n",
    "        print(f\"Error al conectar con el servicio WFS: {response.status_code}\")\n",
    "        return []"
   ]
  },
  {
   "cell_type": "markdown",
   "id": "mostrar-capas",
   "metadata": {},
   "source": [
    "### Funciones para mostrar catalogo de datos y descarga de datos "
   ]
  },
  {
   "cell_type": "code",
   "execution_count": 7,
   "id": "mostrar-capas-code",
   "metadata": {},
   "outputs": [],
   "source": [
    "def download_layers(selected_indices, download_format):\n",
    "    selected_layers = [capas[i] for i in selected_indices]\n",
    "\n",
    "    # Mapear los formatos a las funciones de guardado\n",
    "    format_functions = {\n",
    "        'GeoPackage': lambda gdf, filepath: gdf.to_file(filepath, layer=file_name_base, driver=\"GPKG\"),\n",
    "        'GeoJSON': lambda gdf, filepath: gdf.to_file(filepath, driver=\"GeoJSON\"),\n",
    "        'Shapefile': lambda gdf, filepath: save_shapefile(gdf, filepath)\n",
    "    }\n",
    "    # Función para guardar shapefile según geometría\n",
    "    def save_shapefile(gdf, filepath):\n",
    "        geom_types = gdf.geometry.type.unique()\n",
    "        supported_geom_types = ['Polygon', 'MultiPolygon', 'LineString', 'MultiLineString', 'Point', 'MultiPoint']\n",
    "        for geom_type in supported_geom_types:\n",
    "            if geom_type in geom_types:\n",
    "                gdf[gdf.geometry.type == geom_type].to_file(filepath, driver='ESRI Shapefile')\n",
    "                return\n",
    "        print(f\"Tipo de geometría no soportado en la capa {title}: {geom_types}\")\n",
    "    for name, title in selected_layers:\n",
    "        layer_url = f\"https://lineasdebasepublicas.mma.gob.cl/geoserver/lbp/wfs?service=WFS&version=1.1.0&request=GetFeature&typeName={name}&outputFormat=application/json\"\n",
    "        response = requests.get(layer_url, verify=False)\n",
    "        data = response.json()\n",
    "        # Convertir a GeoDataFrame\n",
    "        gdf = gpd.GeoDataFrame.from_features(data['features'])\n",
    "        # Comprobar y establecer CRS si no está definido\n",
    "        if gdf.crs is None:\n",
    "            gdf.set_crs(epsg=3857, inplace=True)\n",
    "        # Reproyectar a EPSG:4326\n",
    "        gdf = gdf.to_crs(epsg=4326)\n",
    "        # Directorio de salida\n",
    "        output_dir = os.path.expanduser('~/datos_ptlbp/productos')\n",
    "        os.makedirs(output_dir, exist_ok=True)\n",
    "        # Generar nombre de archivo amigable\n",
    "        file_name_base = name.replace('lbp:vista_', '').replace(':', '_')\n",
    "        filepath = os.path.join(output_dir, f\"{file_name_base}.{download_format.lower() if download_format != 'Shapefile' else 'shp'}\")\n",
    "        # Guardar en el formato seleccionado\n",
    "        if download_format in format_functions:\n",
    "            format_functions[download_format](gdf, filepath)\n",
    "        # Comprimir el archivo\n",
    "        zip_filename = os.path.join(output_dir, f\"{file_name_base}.zip\")\n",
    "        with zipfile.ZipFile(zip_filename, 'w') as zipf:\n",
    "            if download_format in ['GeoPackage', 'GeoJSON']:\n",
    "                zipf.write(filepath, os.path.basename(filepath))\n",
    "                os.remove(filepath)\n",
    "            elif download_format == 'Shapefile':\n",
    "                for ext in ['shp', 'shx', 'dbf', 'prj', 'cpg']:\n",
    "                    full_path = os.path.join(output_dir, f\"{file_name_base}.{ext}\")\n",
    "                    if os.path.exists(full_path):\n",
    "                        zipf.write(full_path, os.path.basename(full_path))\n",
    "                        os.remove(full_path)\n",
    "        print(f\"Capa {title} descargada y comprimida como {zip_filename}\")"
   ]
  },
  {
   "cell_type": "markdown",
   "id": "descargar-capas",
   "metadata": {},
   "source": [
    "### Listado de capas disponibles"
   ]
  },
  {
   "cell_type": "code",
   "execution_count": 8,
   "id": "descargar-capas-code",
   "metadata": {},
   "outputs": [
    {
     "data": {
      "text/html": [
       "\n",
       "<h3 style=\"font-size: 20px;\">Capas disponibles:</h3>\n",
       "<ul style=\"font-size: 18px;\">\n",
       "<li>1. Acceso a Infraestructura Aérea (en minutos)</li><li>2. Acceso a Infraestructura Deportiva (en minutos)</li><li>3. Acceso a Infraestructura Educativa (en minutos)</li><li>4. Acceso a Infraestructura Institucional (en minutos)</li><li>5. Acceso a Infraestructura de Bomberos (en minutos)</li><li>6. Acceso a Infraestructura de Patrimonio (en minutos)</li><li>7. Acceso a Infraestructura de Salud (en minutos)</li><li>8. Acceso a Infraestructura de Seguridad Ciudadana (en minutos)</li><li>9. Acceso a Áreas Protegidas por el Estado (en minutos)</li><li>10. Atractivo Turístico: Región de Magallanes y la Antártica Chilena</li><li>11. Atractivos Turísticos</li><li>12. Bibliotecas</li><li>13. Bienes Nacionales Protegidos</li><li>14. Boyas Poal - DIRECTEMAR</li><li>15. Circuito Turístico: Región de Magallanes y la Antártica Chilena</li><li>16. Circuitos Turísticos</li><li>17. Cuerpo de Agua (DGA)</li><li>18. Destinos Turísticos</li><li>19. Ecosistemas Marinos</li><li>20. Establecimientos por Grupos Contaminantes: Región de Magallanes y la Antártica Chilena</li><li>21. Estaciones de Meteorología (DMC)</li><li>22. Estaciones de Monitoreo de Cambio Climático</li><li>23. Falla Geológica</li><li>24. Geología Base</li><li>25. Hidrografía (DGA)</li><li>26. Humedales Urbanos</li><li>27. Humedales Urbanos: Región de Magallanes</li><li>28. Iniciativas de Conservación Privada y Comunitaria</li><li>29. Inventario Nacional de Glaciares (DGA)</li><li>30. Inventario Nacional de Humedales</li><li>31. Inventario Nacional de Humedales: Región de Magallanes</li><li>32. Limite Urbano de Plan Regulador Comunal - Magallanes</li><li>33. Monumento Natural</li><li>34. Monumentos Nacionales</li><li>35. Museos</li><li>36. Nodos SHOA</li><li>37. Paisajes de Conservación</li><li>38. Parque Marino</li><li>39. Parque Nacional</li><li>40. Patrimonio Cultural Inmaterial</li><li>41. Pisos Potenciales</li><li>42. Pisos Remanentes</li><li>43. Plan Regulador Comunal -  Comuna La Reina (Manzanas)</li><li>44. Plan Regulador Comunal - Comuna Cerrillos (Manzanas)</li><li>45. Plan Regulador Comunal - Comuna Cerrillos (Zonas)</li><li>46. Plan Regulador Comunal - Comuna Cerro Navia (Manzanas)</li><li>47. Plan Regulador Comunal - Comuna Cerro Navia (Zonas)</li><li>48. Plan Regulador Comunal - Comuna Chonchalí (Zonas)</li><li>49. Plan Regulador Comunal - Comuna Colina (Manzanas)</li><li>50. Plan Regulador Comunal - Comuna Colina (Zonas)</li><li>51. Plan Regulador Comunal - Comuna Conchalí (Manzanas)</li><li>52. Plan Regulador Comunal - Comuna Curacaví (Manzanas)</li><li>53. Plan Regulador Comunal - Comuna Curacaví (Zonas)</li><li>54. Plan Regulador Comunal - Comuna El Bosque (Manzanas)</li><li>55. Plan Regulador Comunal - Comuna El Bosque (Zonas)</li><li>56. Plan Regulador Comunal - Comuna Estación Central (Manzanas)</li><li>57. Plan Regulador Comunal - Comuna Estación Central (Zonas)</li><li>58. Plan Regulador Comunal - Comuna Huechuraba (Manzanas)</li><li>59. Plan Regulador Comunal - Comuna Huechuraba (Zonas)</li><li>60. Plan Regulador Comunal - Comuna Independencia (Manzanas)</li><li>61. Plan Regulador Comunal - Comuna Independencia (Zonas)</li><li>62. Plan Regulador Comunal - Comuna Isla de Maipo (Zonas)</li><li>63. Plan Regulador Comunal - Comuna La Cisterna (Manzanas)</li><li>64. Plan Regulador Comunal - Comuna La Cisterna (Zonas)</li><li>65. Plan Regulador Comunal - Comuna La Florida (Manzanas)</li><li>66. Plan Regulador Comunal - Comuna La Florida (Zonas)</li><li>67. Plan Regulador Comunal - Comuna La Granja (Manzanas)</li><li>68. Plan Regulador Comunal - Comuna La Granja (Zonas)</li><li>69. Plan Regulador Comunal - Comuna La Reina (Zonas)</li><li>70. Plan Regulador Comunal - Comuna Las Condes (Manzanas)</li><li>71. Plan Regulador Comunal - Comuna Las Condes (Zonas)</li><li>72. Plan Regulador Comunal - Comuna Lo Barnechea (Manzanas</li><li>73. Plan Regulador Comunal - Comuna Lo Barnechea (Zonas)</li><li>74. Plan Regulador Comunal - Comuna Lo Espejo (Manzanas)</li><li>75. Plan Regulador Comunal - Comuna Lo Espejo (Zonas)</li><li>76. Plan Regulador Comunal - Comuna Lo Prado (Manzanas)</li><li>77. Plan Regulador Comunal - Comuna Lo Prado (Zonas)</li><li>78. Plan Regulador Comunal - Comuna Macul (Manzanas)</li><li>79. Plan Regulador Comunal - Comuna Maipú (Manzanas)</li><li>80. Plan Regulador Comunal - Comuna Maipú (Zonas)</li><li>81. Plan Regulador Comunal - Comuna Melipilla (Zonas)</li><li>82. Plan Regulador Comunal - Comuna Padre Hurtado (Manzanas)</li><li>83. Plan Regulador Comunal - Comuna Padre Hurtado (Zonas)</li><li>84. Plan Regulador Comunal - Comuna Paine (Manzanas)</li><li>85. Plan Regulador Comunal - Comuna Paine (Zonas)</li><li>86. Plan Regulador Comunal - Comuna Pedro Aguirre Cerda (Manzanas)</li><li>87. Plan Regulador Comunal - Comuna Pedro Aguirre Cerda (Zonas)</li><li>88. Plan Regulador Comunal - Comuna Peñalolén (Manzanas)</li><li>89. Plan Regulador Comunal - Comuna Peñalolén (Zonas)</li><li>90. Plan Regulador Comunal - Comuna Providencia (Manzanas)</li><li>91. Plan Regulador Comunal - Comuna Providencia (Zonas)</li><li>92. Plan Regulador Comunal - Comuna Pudahuel (Manzanas)</li><li>93. Plan Regulador Comunal - Comuna Pudahuel (Zonas)</li><li>94. Plan Regulador Comunal - Comuna Puente Alto (Manzannas)</li><li>95. Plan Regulador Comunal - Comuna Puente Alto (Zonas)</li><li>96. Plan Regulador Comunal - Comuna Quilicura (Manzanas)</li><li>97. Plan Regulador Comunal - Comuna Quilicura (Zonas)</li><li>98. Plan Regulador Comunal - Comuna Quinta Normal (Manzanas)</li><li>99. Plan Regulador Comunal - Comuna Quinta Normal (Zonas)</li><li>100. Plan Regulador Comunal - Comuna Recoleta (Manzana)</li><li>101. Plan Regulador Comunal - Comuna Recoleta (Zonas)</li><li>102. Plan Regulador Comunal - Comuna Renca (Manzanas)</li><li>103. Plan Regulador Comunal - Comuna Renca (Zonas)</li><li>104. Plan Regulador Comunal - Comuna San Bernardo (Manzanas)</li><li>105. Plan Regulador Comunal - Comuna San Bernardo (Zonas)</li><li>106. Plan Regulador Comunal - Comuna San Joaquín (Manzanas)</li><li>107. Plan Regulador Comunal - Comuna San Joaquín (Zonas)</li><li>108. Plan Regulador Comunal - Comuna San Miguel (Manzanas)</li><li>109. Plan Regulador Comunal - Comuna San Miguel (Zonas)</li><li>110. Plan Regulador Comunal - Comuna San Ramón (Manzanas)</li><li>111. Plan Regulador Comunal - Comuna San Ramón (Zonas)</li><li>112. Plan Regulador Comunal - Comuna Santiago (Manzanas)</li><li>113. Plan Regulador Comunal - Comuna Santiago (Zonas)</li><li>114. Plan Regulador Comunal - Comuna Talagante (Manzanas)</li><li>115. Plan Regulador Comunal - Comuna Talagante (Zonas)</li><li>116. Plan Regulador Comunal - Comuna Vitacura (Manzanas)</li><li>117. Plan Regulador Comunal - Comuna Vitacura (Zonas)</li><li>118. Plan Regulador Comunal - Comuna Ñuñoa (Zonas)</li><li>119. Plan Regulador Comunal - Límite Urbano Antofagasta</li><li>120. Plan Regulador Comunal - Región de Magallanes (Manzanas)</li><li>121. Plan Regulador Comunal - Región de Magallanes (Zonas)</li><li>122. Plan Regulador Comunal Región Metropolitana - Límite Urbano Comunal</li><li>123. Plan Regulador Comunal: Región de Antofagasta (Manzanas)</li><li>124. Plan Regulador Comunal: Región de Antofagasta (Zonas)</li><li>125. Plan Regulador Intercomunal: Región de Antofagasta</li><li>126. Plan Regulador Metropolitano de Santiago: Límite Urbano</li><li>127. Plan Regulador Metropolitano de Santiago: Uso del Suelo (Bordes)</li><li>128. Plan Regulador Metropolitano de Santiago: Uso del Suelo (Áreas)</li><li>129. Población en Entidades y Manzanas censales (Censo 2017)</li><li>130. Red Hidrométrica (DGA)</li><li>131. Reserva Forestal</li><li>132. Reserva Marina</li><li>133. Reserva Nacional</li><li>134. Reserva de la Biósfera</li><li>135. Riesgo Sísmico y Volcánico</li><li>136. Riesgo de Remoción en Masa</li><li>137. Santuario de la Naturaleza</li><li>138. Sello de Artesanía Indígena</li><li>139. Sitio Prioritario Estrategia Regional de Biodiversidad</li><li>140. Sitio Prioritario Ley 19.300 art. 11 letra d</li><li>141. Sitios Ramsar</li><li>142. Tesoro Humano Vivo</li><li>143. Total Anual de Contaminantes</li><li>144. Unidad Geomorfológica</li><li>145. Volcanes Activos</li><li>146. Zona de Estudio - Universidad de Magallanes</li><li>147. Zona de Interés Turístico: Región de Magallanes y la Antártica Chilena</li><li>148. Zonas Climáticas Köppen-Geiger: Región de Magallanes</li><li>149. Zonas clímaticas de Chile según Koppen Geiger</li><li>150. Zonas de Interés Turístico</li><li>151. Áreas Marino Costeras Protegidas</li></ul>"
      ],
      "text/plain": [
       "<IPython.core.display.HTML object>"
      ]
     },
     "metadata": {},
     "output_type": "display_data"
    }
   ],
   "source": [
    "capas = listar_capas(wfs_url)\n",
    "capas_html = \"\"\"\n",
    "<h3 style=\"font-size: 20px;\">Capas disponibles:</h3>\n",
    "<ul style=\"font-size: 18px;\">\n",
    "\"\"\"\n",
    "for i, (name, title) in enumerate(capas):\n",
    "    capas_html += f\"<li>{i+1}. {title}</li>\"\n",
    "capas_html += \"</ul>\"\n",
    "display(HTML(capas_html))"
   ]
  },
  {
   "cell_type": "markdown",
   "id": "seleccionar-capas",
   "metadata": {},
   "source": [
    "### Seleccione capas por número. \n",
    "### Si desea más de una capa escríbala separada de coma (\",\")"
   ]
  },
  {
   "cell_type": "code",
   "execution_count": 9,
   "id": "seleccionar-capas-code",
   "metadata": {},
   "outputs": [],
   "source": [
    "selected_indices = input(\"Introduce los números de las capas a seleccionar, separados por comas: \")\n",
    "selected_indices = [int(i) - 1 for i in selected_indices.split(\",\")]"
   ]
  },
  {
   "cell_type": "markdown",
   "id": "seleccionar-formato",
   "metadata": {},
   "source": [
    "### Seleccione el formato de descarga:\n",
    "### (GeoPackage, GeoJSON, Shapefile)"
   ]
  },
  {
   "cell_type": "code",
   "execution_count": 10,
   "id": "seleccionar-formato-code",
   "metadata": {},
   "outputs": [
    {
     "data": {
      "text/html": [
       "\n",
       "<h3 style=\"font-size: 20px;\">Formatos disponibles:</h3>\n",
       "<ul style=\"font-size: 18px;\">\n",
       "<li>1. GeoPackage</li><li>2. GeoJSON</li><li>3. Shapefile</li></ul>"
      ],
      "text/plain": [
       "<IPython.core.display.HTML object>"
      ]
     },
     "metadata": {},
     "output_type": "display_data"
    },
    {
     "name": "stderr",
     "output_type": "stream",
     "text": [
      "/tmp/ipykernel_19277/2330962727.py:16: UserWarning: Column names longer than 10 characters will be truncated when saved to ESRI Shapefile.\n",
      "  gdf[gdf.geometry.type == geom_type].to_file(filepath, driver='ESRI Shapefile')\n"
     ]
    },
    {
     "name": "stdout",
     "output_type": "stream",
     "text": [
      "Capa Parque Nacional descargada y comprimida como /home/chris/datos_ptlbp/productos/parque_nacional.zip\n"
     ]
    }
   ],
   "source": [
    "formats = {1: \"GeoPackage\", 2: \"GeoJSON\", 3: \"Shapefile\"}\n",
    "formats_html = \"\"\"\n",
    "<h3 style=\"font-size: 20px;\">Formatos disponibles:</h3>\n",
    "<ul style=\"font-size: 18px;\">\n",
    "\"\"\"\n",
    "for i, format_name in formats.items():\n",
    "    formats_html += f\"<li>{i}. {format_name}</li>\"\n",
    "formats_html += \"</ul>\"\n",
    "display(HTML(formats_html))\n",
    "\n",
    "download_format = int(input(\"Introduce el número del formato de descarga: \"))\n",
    "\n",
    "# Validar formato seleccionado\n",
    "if download_format in formats:\n",
    "    download_format_str = formats[download_format]\n",
    "    # Ejecutar la descarga\n",
    "    download_layers(selected_indices, download_format_str)\n",
    "else:\n",
    "    print(\"Formato no válido\")"
   ]
  }
 ],
 "metadata": {
  "kernelspec": {
   "display_name": "Python 3",
   "language": "python",
   "name": "python3"
  },
  "language_info": {
   "codemirror_mode": {
    "name": "ipython",
    "version": 3
   },
   "file_extension": ".py",
   "mimetype": "text/x-python",
   "name": "python",
   "nbconvert_exporter": "python",
   "pygments_lexer": "ipython3",
   "version": "3.9.19"
  }
 },
 "nbformat": 4,
 "nbformat_minor": 5
}
